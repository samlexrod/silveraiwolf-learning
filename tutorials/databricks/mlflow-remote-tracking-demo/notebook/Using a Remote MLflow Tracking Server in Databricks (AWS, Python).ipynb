{
 "cells": [
  {
   "cell_type": "markdown",
   "metadata": {
    "application/vnd.databricks.v1+cell": {
     "cellMetadata": {},
     "inputWidgets": {},
     "nuid": "b6cf58a8-5b97-41cc-8b68-32ca4ea3adad",
     "showTitle": false,
     "tableResultSettingsMap": {},
     "title": ""
    }
   },
   "source": [
    "# Wrap-up Summary: Using a Remote MLflow Tracking Server in Databricks (AWS)\n",
    "\n",
    "This notebook demonstrates how to configure and use a remote MLflow Tracking Server from a Databricks notebook on AWS. The steps include:\n",
    "\n",
    "1. Setting the MLflow tracking URI to point to your remote tracking server.\n",
    "2. Training and logging a RandomForestRegressor model, parameters, metrics, and artifacts to the remote server.\n",
    "3. Verifying your run and viewing results in the MLflow Tracking UI.\n",
    "\n",
    "Replace the placeholder tracking server URI with your actual server address. After running the notebook, you can view your experiment runs, models, and artifacts in the MLflow Tracking Server UI. For more details, see the [Databricks MLflow Tracking Server documentation](https://docs.databricks.com/aws/en/mlflow/tracking-server-configuration.html).\n",
    "\n",
    "---"
   ]
  },
  {
   "cell_type": "markdown",
   "metadata": {
    "application/vnd.databricks.v1+cell": {
     "cellMetadata": {},
     "inputWidgets": {},
     "nuid": "e6a1913d-0797-4bfa-a20b-785c618331c8",
     "showTitle": false,
     "tableResultSettingsMap": {},
     "title": ""
    }
   },
   "source": [
    "# Example: Using a Remote MLflow Tracking Server in Databricks (AWS)\n",
    "\n",
    "This notebook demonstrates how to configure and use a remote MLflow Tracking Server from a Databricks notebook on AWS. You will learn how to:\n",
    "\n",
    "* Set the MLflow tracking URI to point to your remote tracking server\n",
    "* Train and log a model, parameters, metrics, and artifacts to the remote server\n",
    "* Verify your run and view results in the MLflow Tracking UI\n",
    "\n",
    "**Prerequisites:**\n",
    "* You have access to a running MLflow Tracking Server (hosted on EC2, ECS, EKS, or another managed service)\n",
    "* You have the tracking server URI and necessary credentials (if authentication is enabled)\n",
    "* The tracking server is reachable from your Databricks workspace\n",
    "\n",
    "For more details, see the [Databricks MLflow Tracking Server documentation](https://docs.databricks.com/aws/en/mlflow/tracking-server-configuration.html)."
   ]
  },
  {
   "cell_type": "markdown",
   "metadata": {
    "application/vnd.databricks.v1+cell": {
     "cellMetadata": {},
     "inputWidgets": {},
     "nuid": "9a4d2a84-d832-408c-9a44-e23d9250c913",
     "showTitle": false,
     "tableResultSettingsMap": {},
     "title": ""
    }
   },
   "source": [
    "## Step 2: Set Up MLflow Tracking URI\n",
    "Add a code cell to import mlflow, set the tracking URI to a placeholder, and verify it. This is the first actionable step for remote tracking server usage."
   ]
  },
  {
   "cell_type": "code",
   "execution_count": 0,
   "metadata": {
    "application/vnd.databricks.v1+cell": {
     "cellMetadata": {},
     "inputWidgets": {},
     "nuid": "48da07f1-8cdf-4fc9-912c-8a995652ba96",
     "showTitle": false,
     "tableResultSettingsMap": {},
     "title": ""
    }
   },
   "outputs": [],
   "source": [
    "import mlflow\n",
    "\n",
    "# Set the MLflow tracking URI to your remote tracking server\n",
    "# Replace the URI below with your actual tracking server address\n",
    "mlflow.set_tracking_uri(\"http://your-tracking-server:5000\")\n",
    "print(f\"Current MLflow tracking URI: {mlflow.get_tracking_uri()}\")\n",
    "\n",
    "# Verify that the tracking URI is set correctly\n",
    "assert mlflow.get_tracking_uri() == \"http://your-tracking-server:5000\", \"Tracking URI not set correctly!\"\n",
    "print(\"MLflow tracking URI is set and ready.\")"
   ]
  },
  {
   "cell_type": "markdown",
   "metadata": {
    "application/vnd.databricks.v1+cell": {
     "cellMetadata": {},
     "inputWidgets": {},
     "nuid": "ad8669d4-da7e-4b20-8280-1d1df755b9da",
     "showTitle": false,
     "tableResultSettingsMap": {},
     "title": ""
    }
   },
   "source": [
    "## Step 3: Train and Log a Model to the Tracking Server\n",
    "Add code to train a RandomForestRegressor on the diabetes dataset, log parameters, metrics, the model, and a sample artifact to the remote MLflow tracking server. This demonstrates end-to-end MLflow usage."
   ]
  },
  {
   "cell_type": "code",
   "execution_count": 0,
   "metadata": {
    "application/vnd.databricks.v1+cell": {
     "cellMetadata": {},
     "inputWidgets": {},
     "nuid": "34c4e21e-af48-43c0-b968-c0ff5481b680",
     "showTitle": false,
     "tableResultSettingsMap": {},
     "title": ""
    }
   },
   "outputs": [],
   "source": [
    "import numpy as np\n",
    "import pandas as pd\n",
    "from sklearn.datasets import load_diabetes\n",
    "from sklearn.ensemble import RandomForestRegressor\n",
    "from sklearn.model_selection import train_test_split\n",
    "from sklearn.metrics import mean_squared_error, r2_score\n",
    "import matplotlib.pyplot as plt\n",
    "import mlflow.sklearn\n",
    "import os\n",
    "\n",
    "# Load dataset\n",
    "X, y = load_diabetes(return_X_y=True, as_frame=True)\n",
    "X_train, X_test, y_train, y_test = train_test_split(X, y, test_size=0.2, random_state=42)\n",
    "\n",
    "# Train model\n",
    "model = RandomForestRegressor(n_estimators=100, random_state=42)\n",
    "model.fit(X_train, y_train)\n",
    "\n",
    "# Predict and evaluate\n",
    "y_pred = model.predict(X_test)\n",
    "mse = mean_squared_error(y_test, y_pred)\n",
    "r2 = r2_score(y_test, y_pred)\n",
    "\n",
    "# Log to MLflow\n",
    "with mlflow.start_run() as run:\n",
    "    mlflow.log_param(\"n_estimators\", 100)\n",
    "    mlflow.log_metric(\"mse\", mse)\n",
    "    mlflow.log_metric(\"r2\", r2)\n",
    "    mlflow.sklearn.log_model(model, \"model\")\n",
    "    \n",
    "    # Log a sample artifact: prediction plot\n",
    "    plt.figure(figsize=(6,4))\n",
    "    plt.scatter(y_test, y_pred, alpha=0.7)\n",
    "    plt.xlabel(\"Actual\")\n",
    "    plt.ylabel(\"Predicted\")\n",
    "    plt.title(\"Actual vs Predicted\")\n",
    "    plot_path = \"prediction_plot.png\"\n",
    "    plt.savefig(plot_path)\n",
    "    mlflow.log_artifact(plot_path)\n",
    "    plt.close()\n",
    "    os.remove(plot_path)\n",
    "    \n",
    "    print(f\"Run ID: {run.info.run_id}\")\n",
    "    print(f\"Tracking URI: {mlflow.get_tracking_uri()}\")"
   ]
  },
  {
   "cell_type": "markdown",
   "metadata": {
    "application/vnd.databricks.v1+cell": {
     "cellMetadata": {},
     "inputWidgets": {},
     "nuid": "3daf4dd1-de66-436f-988c-acd194d20564",
     "showTitle": false,
     "tableResultSettingsMap": {},
     "title": ""
    }
   },
   "source": [
    "# Viewing Your Run in the MLflow Tracking Server UI\n",
    "\n",
    "1. Open your MLflow Tracking Server UI in a browser. The address is typically the tracking URI you set earlier (e.g., `http://your-tracking-server:5000`).\n",
    "2. Navigate to the appropriate experiment (by default, this is 'Default' unless you specified another experiment name).\n",
    "3. Find the run using the Run ID printed above.\n",
    "4. You can view parameters, metrics, the logged model, and any artifacts (such as the prediction plot) in the UI.\n",
    "\n",
    "For more details, see the [Databricks MLflow Tracking Server documentation](https://docs.databricks.com/aws/en/mlflow/tracking-server-configuration.html)."
   ]
  }
 ],
 "metadata": {
  "application/vnd.databricks.v1+notebook": {
   "computePreferences": null,
   "dashboards": [],
   "environmentMetadata": {
    "base_environment": "",
    "environment_version": "3"
   },
   "inputWidgetPreferences": null,
   "language": "python",
   "notebookMetadata": {
    "pythonIndentUnit": 4
   },
   "notebookName": "Using a Remote MLflow Tracking Server in Databricks (AWS, Python)",
   "widgets": {}
  },
  "language_info": {
   "name": "python"
  }
 },
 "nbformat": 4,
 "nbformat_minor": 0
}
