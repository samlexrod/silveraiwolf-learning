{
 "cells": [
  {
   "cell_type": "markdown",
   "metadata": {
    "application/vnd.databricks.v1+cell": {
     "cellMetadata": {},
     "inputWidgets": {},
     "nuid": "3be8fe7e-a0a7-4242-a35f-de641fd8fec8",
     "showTitle": false,
     "tableResultSettingsMap": {},
     "title": ""
    }
   },
   "source": [
    "# Databricks Vector Search Index Embeddings\n",
    "\n",
    "This guide demonstrates how to set up and manage a Vector Search Index in Databricks using the VectorSearchClient. The objective is to effectively store, index, and search for vector embeddings within a Delta Table, serving as our context retriever for the RAG application.\n",
    "\n",
    "## Get ready to put your ML Engineering Hat! 🧢\n",
    "\n",
    "\n",
    "By following these steps, you have: \n",
    "- ✅ Created a Vector Search Endpoint\n",
    "- ✅ Defined a Delta Table Index for embeddings\n",
    "\n",
    "This setup allows efficient semantic search on vectorized data in Databricks, improving performance in RAG (Retrieval-Augmented Generation) or other AI-driven search applications."
   ]
  },
  {
   "cell_type": "code",
   "execution_count": 0,
   "metadata": {
    "application/vnd.databricks.v1+cell": {
     "cellMetadata": {
      "byteLimit": 2048000,
      "rowLimit": 10000
     },
     "inputWidgets": {},
     "nuid": "87a80c36-f0dc-4cbd-bd57-47fba56d7c8a",
     "showTitle": false,
     "tableResultSettingsMap": {},
     "title": ""
    }
   },
   "outputs": [],
   "source": [
    "%pip install -q databricks-vectorsearch\n",
    "dbutils.library.restartPython()"
   ]
  },
  {
   "cell_type": "code",
   "execution_count": 0,
   "metadata": {
    "application/vnd.databricks.v1+cell": {
     "cellMetadata": {
      "byteLimit": 2048000,
      "rowLimit": 10000
     },
     "inputWidgets": {},
     "nuid": "3ad05082-1ec6-4cf6-9a84-bae1155e49e2",
     "showTitle": false,
     "tableResultSettingsMap": {},
     "title": ""
    }
   },
   "outputs": [],
   "source": [
    "import databricks\n",
    "from databricks.vector_search.client import VectorSearchClient"
   ]
  },
  {
   "cell_type": "markdown",
   "metadata": {
    "application/vnd.databricks.v1+cell": {
     "cellMetadata": {},
     "inputWidgets": {},
     "nuid": "e2eedc94-fd5b-436e-8574-a9c1972e958d",
     "showTitle": false,
     "tableResultSettingsMap": {},
     "title": ""
    }
   },
   "source": [
    "# 1. Create the Vector Search Engine\n",
    "---\n",
    "\n",
    "The following initializes a Vector Search Endpoint in Databricks, which is a crucial component for Retrieval-Augmented Generation (RAG) systems. RAG enhances large language models (LLMs) by retrieving relevant external knowledge before generating responses, significantly improving accuracy and relevance.\n",
    "\n",
    "**What is a Vector Search Engine and How Does it Work?**\n",
    "\n",
    "A Vector Search Engine is a specialized search system that finds the most relevant results based on similarity between high-dimensional vector embeddings instead of traditional keyword matching. It is essential for applications like semantic search, recommendation systems, image retrieval, and Retrieval-Augmented Generation (RAG).\n",
    "\n",
    "​Databricks Vector Search utilizes the Hierarchical Navigable Small World (HNSW) algorithm for approximate nearest neighbor searches, employing the L2 distance metric (Euclidean distance) to measure embedding vector similarity. Read more here: https://learn.microsoft.com/en-us/azure/databricks/generative-ai/vector-search"
   ]
  },
  {
   "cell_type": "code",
   "execution_count": 0,
   "metadata": {
    "application/vnd.databricks.v1+cell": {
     "cellMetadata": {
      "byteLimit": 2048000,
      "rowLimit": 10000
     },
     "inputWidgets": {},
     "nuid": "bd271577-8fe5-4d2c-b061-84920cbf6201",
     "showTitle": false,
     "tableResultSettingsMap": {},
     "title": ""
    }
   },
   "outputs": [],
   "source": [
    "# The following line automatically generates a PAT Token for authentication\n",
    "client = VectorSearchClient()\n",
    "\n",
    "# The following line uses the service principal token for authentication\n",
    "try:\n",
    "    client.create_endpoint_and_wait(\n",
    "        name=\"silveraiwolf_vector_search\",\n",
    "        endpoint_type=\"STANDARD\"\n",
    "    )\n",
    "except:\n",
    "    print(f\"Endpoint already exists\")"
   ]
  },
  {
   "cell_type": "markdown",
   "metadata": {
    "application/vnd.databricks.v1+cell": {
     "cellMetadata": {},
     "inputWidgets": {},
     "nuid": "def95caa-2b63-4171-86e2-78b6c2fa3ca0",
     "showTitle": false,
     "tableResultSettingsMap": {},
     "title": ""
    }
   },
   "source": [
    "# 2. Creating the Vector Search Index\n",
    "---\n",
    "\n",
    "​In Retrieval-Augmented Generation (RAG) workflows, creating a Delta Sync Index facilitates efficient and up-to-date retrieval of relevant information from a knowledge base. This index automatically synchronizes with the source Delta Table, incrementally updating as the underlying data changes. This ensures that the vector search index remains current, enabling accurate and efficient retrieval of information for RAG applications.\n",
    "\n",
    "These embeddings are numerical representations of text, capturing semantic meaning in a high-dimensional vector space.  \n",
    "\n",
    "When creating an index for a **vector search** system, each row of text in the database is converted into an **embedding**, which is typically a fixed-length array of floating-point numbers. This allows for quick similarity searches, where the system can find relevant documents based on meaning rather than exact word matches.  \n",
    "\n",
    "For example:\n",
    "\n",
    "- \"Hello\" → [0.12, 0.45, 0.78, ..., 0.99] (768 dimensions, for example)\n",
    "- \"Hello, how are you?\" → [0.34, 0.87, 0.65, ..., 0.21] (same 768 dimensions)\n",
    "- \"Today is a wonderful day to learn about embeddings!\" → [0.56, 0.32, 0.89, ..., 0.44] (again, 768 dimensions)\n",
    "\n",
    "A **sentence embedding** represents an entire piece of text (e.g., a sentence, paragraph, or document) as a single vector, rather than embedding each word separately. Importantly, the size of the embedding is **fixed** by the model, meaning that regardless of how many words are in the sentence, the resulting vector always has the same number of dimensions (e.g., `768` for BERT-based models, `1024` for GPT-3).  \n",
    "\n",
    "This approach allows for efficient retrieval, semantic similarity comparison, and ranking in RAG applications, making it a fundamental technique for improving search and retrieval in AI-driven systems."
   ]
  },
  {
   "cell_type": "code",
   "execution_count": 0,
   "metadata": {
    "application/vnd.databricks.v1+cell": {
     "cellMetadata": {
      "byteLimit": 2048000,
      "rowLimit": 10000
     },
     "inputWidgets": {},
     "nuid": "a7694e0d-89c5-41e7-9429-863718fdb748",
     "showTitle": false,
     "tableResultSettingsMap": {},
     "title": ""
    }
   },
   "outputs": [],
   "source": [
    "index = client.create_delta_sync_index_and_wait(\n",
    "  endpoint_name=\"silveraiwolf_vector_search\",\n",
    "  source_table_name=\"llm.rag.knowledge_base\",\n",
    "  index_name=\"llm.rag.knowledge_base_idx\",\n",
    "  pipeline_type=\"TRIGGERED\",\n",
    "  primary_key=\"id\",\n",
    "  embedding_source_column=\"content\",\n",
    "  embedding_model_endpoint_name=\"databricks-gte-large-en\"\n",
    ")"
   ]
  },
  {
   "cell_type": "markdown",
   "metadata": {
    "application/vnd.databricks.v1+cell": {
     "cellMetadata": {},
     "inputWidgets": {},
     "nuid": "4912ffc2-700b-4c3a-8e89-9aada7bb46d6",
     "showTitle": false,
     "tableResultSettingsMap": {},
     "title": ""
    }
   },
   "source": [
    "# END OF NOTEBOOK"
   ]
  }
 ],
 "metadata": {
  "application/vnd.databricks.v1+notebook": {
   "computePreferences": null,
   "dashboards": [],
   "environmentMetadata": {
    "base_environment": "",
    "environment_version": "2"
   },
   "inputWidgetPreferences": null,
   "language": "python",
   "notebookMetadata": {
    "mostRecentlyExecutedCommandWithImplicitDF": {
     "commandId": -1,
     "dataframes": [
      "_sqldf"
     ]
    },
    "pythonIndentUnit": 4
   },
   "notebookName": "t2-databricks-vector-search-index",
   "widgets": {}
  },
  "language_info": {
   "name": "python"
  }
 },
 "nbformat": 4,
 "nbformat_minor": 0
}
